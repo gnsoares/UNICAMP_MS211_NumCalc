{
 "cells": [
  {
   "cell_type": "markdown",
   "metadata": {},
   "source": [
    "# Configuração\n",
    "---"
   ]
  },
  {
   "cell_type": "code",
   "execution_count": null,
   "metadata": {},
   "outputs": [],
   "source": [
    "import matplotlib.pyplot as plt\n",
    "import numpy as np\n",
    "\n",
    "# Constantes iniciais\n",
    "r0 = .5 # taxa de reproducao da populacao\n",
    "K0 = 10 # constante de capacidade do meio\n",
    "h0 = .05 # passo dos metodos\n",
    "\n",
    "# Funcao de iteracao\n",
    "f = lambda r, y, K: r*y*(1-y/K)"
   ]
  },
  {
   "cell_type": "markdown",
   "metadata": {},
   "source": [
    "### Item a) \n",
    "#### Método de Euler com passo 0.05 no intervalo [0, 4]\n",
    "---"
   ]
  },
  {
   "cell_type": "code",
   "execution_count": null,
   "metadata": {},
   "outputs": [],
   "source": [
    "# Arrays das variaveis independentes e dependentes\n",
    "t_euler = np.arange(0, 4, h0)\n",
    "y_euler = np.zeros(t_euler.size, dtype=float)\n",
    "y_euler[0] = 1 # condicao inicial\n",
    "y_anal = (K0*y_euler[0]*np.exp(r0*t_euler))/(K0+y_euler[0]*(np.exp(r0*t_euler)-1))\n",
    "\n",
    "# Execucao do metodo\n",
    "for i in range(1, y_euler.size):\n",
    "\ty_euler[i] = y_euler[i-1] + h0*f(r0, y_euler[i-1], K0)\n",
    "    \n",
    "# Plot das curvas\n",
    "plt.figure(1, figsize=(9,5))\n",
    "plt.plot(t_euler, y_anal, 'k', linewidth=2, label='Solução Analítica')\n",
    "plt.scatter(t_euler, y_euler, facecolors='none', edgecolors='b', label='Método de Euler')\n",
    "plt.xlabel('Tempo')\n",
    "plt.ylabel('Tamanho da população')\n",
    "plt.title('Comparação do Método de Euler com passo h = 0.05 com a Solução Analítica')\n",
    "plt.legend()\n",
    "plt.grid(True)\n",
    "plt.axis([0, 4, 1, 5])"
   ]
  },
  {
   "cell_type": "markdown",
   "metadata": {},
   "source": [
    "### Item b)\n",
    "#### Método de Euler variando os parâmetros\n",
    "---"
   ]
  },
  {
   "cell_type": "code",
   "execution_count": null,
   "metadata": {},
   "outputs": [],
   "source": [
    "# Novos parametros \n",
    "r = np.array([.2, .4, .6, .8])\n",
    "h = np.array([.025, .1, .5, 1])\n",
    "K = np.array([4, 8, 12, 16])\n",
    "\n",
    "# Configuracao do plot\n",
    "fig = plt.figure(2, figsize=(13.5,7.5))\n",
    "fig.suptitle('Comparação do Método de Euler com diferentes passos e parâmetros com a Solução Analítica') \n",
    "colors = ('b', 'r', 'g', 'm')\n",
    "max_y = (2, 4, 7, 11)\n",
    "\n",
    "for i in range(h.size):\n",
    "    # Arrays das variaveis independentes e dependentes\n",
    "    t_eulerb = np.arange(0, 4+h[i], h[i])\n",
    "    y_eulerb = np.zeros((t_eulerb.shape), dtype=float)\n",
    "    y_eulerb[0] = 1 # condicao inicial\n",
    "    \n",
    "    # Execucao do metodo\n",
    "    for j in range(1, y_eulerb.size):\n",
    "        y_eulerb[j] = y_eulerb[j-1] + h[i]*f(r[i], y_eulerb[j-1], K[i])\n",
    "        \n",
    "    # Plot das curvas\n",
    "    plt.subplot(221 + i)\n",
    "    y_anal = (K[i]*y_euler[0]*np.exp(r[i]*t_eulerb))/(K[i]+y_euler[0]*(np.exp(r[i]*t_eulerb)-1))\n",
    "    plt.plot(t_eulerb, y_anal, 'k', linewidth=2)\n",
    "    plt.scatter(t_eulerb, y_eulerb, facecolors='none', edgecolors=colors[i])\n",
    "    plt.xlabel('Tempo')\n",
    "    plt.ylabel('Tamanho da população')\n",
    "    plt.grid(True)\n",
    "    plt.axis([0, 4, 1, max_y[i]])\n",
    "    plt.title('h = %.2f; r = %.2f; K = %.2f' %(h[i], r[i], K[i]))\n",
    "    \n",
    "plt.subplots_adjust(hspace=.5)"
   ]
  },
  {
   "cell_type": "markdown",
   "metadata": {},
   "source": [
    "### Item c)\n",
    "#### Método de Runge-Kutta de 4ª ordem com passo 0.05 no intervalo [0, 10]\n",
    "---"
   ]
  },
  {
   "cell_type": "code",
   "execution_count": null,
   "metadata": {},
   "outputs": [],
   "source": [
    " # Arrays das variaveis independentes e dependentes\n",
    "t_rk4 = np.arange(0, 10, h0)\n",
    "y_rk4 = np.zeros(t_rk4.size, dtype=float)\n",
    "y_rk4[0] = 1 # condicao inicial\n",
    "y_anal = (K0*y_rk4[0]*np.exp(r0*t_rk4))/(K0+y_rk4[0]*(np.exp(r0*t_rk4)-1))\n",
    "\n",
    "# Execucao do metodo\n",
    "for i in range(1, y_rk4.size):\n",
    "\tk1 = h0*f(r0, y_rk4[i-1], K0)\n",
    "\tk2 = h0*f(r0, y_rk4[i-1] + k1/2, K0)\n",
    "\tk3 = h0*f(r0, y_rk4[i-1] + k2/2, K0)\n",
    "\tk4 = h0*f(r0, y_rk4[i-1] + k3, K0)\n",
    "\ty_rk4[i] = y_rk4[i-1] + (1/6)*(k1 + 2*k2 + 2*k3 + k4)\n",
    "\n",
    "# Plot das curvas\n",
    "plt.figure(3, figsize=(9, 5))\n",
    "plt.plot(t_rk4, y_anal, 'k', linewidth=2, label='Solução Analítica')\n",
    "plt.scatter(t_rk4, y_rk4, facecolors='none', edgecolors='b', label='Método de Runge-Kutta')\n",
    "plt.xlabel('Tempo')\n",
    "plt.ylabel('Tamanho da população')\n",
    "plt.title('Comparação do Método de Runge-Kutta de 4ª ordem com passo h = 0.05 com a Solução Analítica')\n",
    "plt.legend()\n",
    "plt.grid(True)\n",
    "plt.axis([0, 10, 1, 10])"
   ]
  },
  {
   "cell_type": "markdown",
   "metadata": {},
   "source": [
    "### Item d)\n",
    "#### Comparação dos métodos\n",
    "---"
   ]
  },
  {
   "cell_type": "code",
   "execution_count": null,
   "metadata": {},
   "outputs": [],
   "source": []
  }
 ],
 "metadata": {
  "kernelspec": {
   "display_name": "Python 3",
   "language": "python",
   "name": "python3"
  },
  "language_info": {
   "codemirror_mode": {
    "name": "ipython",
    "version": 3
   },
   "file_extension": ".py",
   "mimetype": "text/x-python",
   "name": "python",
   "nbconvert_exporter": "python",
   "pygments_lexer": "ipython3",
   "version": "3.7.0"
  }
 },
 "nbformat": 4,
 "nbformat_minor": 2
}
